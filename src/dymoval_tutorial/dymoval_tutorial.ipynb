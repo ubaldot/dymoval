{
 "cells": [
  {
   "cell_type": "markdown",
   "id": "230e139c-8f87-4eaa-bb97-11e7998ee8bd",
   "metadata": {
    "tags": []
   },
   "source": [
    "# Welcome to dymoval's tutorial!\n",
    " \n",
    "In this tutorial we show the main functionalities of *dymoval*.\n",
    "\n",
    "## DC Motor model\n",
    "We assume that we built the model of a DC electric motor that we want to validate. The motor is assumed to be connected to a constant load.\n",
    "The dynamics of the actual DC motor that we want to capture are the connections between the *input* DC voltage and the motor speed and the DC current are considered as *outputs*.\n",
    "\n",
    "<p align=\"center\">\n",
    "    <br>\n",
    "  <img src=\"./DCMotor.svg\" width=\"750\" title=\"DCMotor\" class=\"center\">\n",
    "</p>\n",
    "\n",
    "\n",
    "### Validation setup\n",
    "To validate our model we need to verify that its response is as close as possible to the actual DC motor response in front of the same *input* signal. Therefore, we need to log some **measurement data** and use them to stimulate our model, thus generating some **simulation data**. Both measurements and simulation data serve as inputs to Dymoval.\n",
    "\n",
    "In this tutorial, we assume that we get some measurements logs from the labs where a team run some experiments and collected the results in a `HDF5` file and that another team developed a DC motor model. Although the latter team could also simulate the model by feeding it with the log data and provide us with just the simulation results, in this example we assume that they just provide a model but we need to simulate it by ourselves.\n",
    "\n",
    "\n",
    "## Log data analysis\n",
    "The first step is to extract the logs from the `HDF5` file and build a *dymoval* Dataset object but before doing that let's start by importing some useful packages:"
   ]
  },
  {
   "cell_type": "code",
   "execution_count": null,
   "id": "0d786ef0-ad59-4e38-8b35-487ff3ccd0f8",
   "metadata": {
    "tags": []
   },
   "outputs": [],
   "source": [
    "# %matplotlib widget # requires ipympl package\n",
    "import numpy as np\n",
    "import matplotlib.pyplot as plt\n",
    "import h5py\n",
    "from copy import deepcopy\n",
    "from itertools import product\n",
    "import dymoval as dmv\n",
    "import matplotlib"
   ]
  },
  {
   "cell_type": "markdown",
   "id": "399f2279-8270-49c0-b036-412c8fa220d1",
   "metadata": {},
   "source": [
    ">**Note:**\n",
    ">If your notebook supports interactive plots, then you may uncomment the first line of the above code cell. \n",
    "\n",
    "Let's read the log data stored in the `hdf5` file. All the logs that we are interested in are stored in the group \"*signals*\".\n",
    "Feel free to explore the hdf5 file at your convenience.\n",
    "We use the h5py package to read it, but feel free to explore any other package that can read HDF5 files."
   ]
  },
  {
   "cell_type": "code",
   "execution_count": null,
   "id": "24157f9b-296a-45e4-96b0-8c0f8cc82197",
   "metadata": {},
   "outputs": [],
   "source": [
    "logs = h5py.File('./DCMotorLogs.h5', 'r')\n",
    "logs[\"signals\"].keys()"
   ]
  },
  {
   "cell_type": "markdown",
   "id": "b3383abf-410f-4cf3-b94d-6ac9eb9ad2fa",
   "metadata": {},
   "source": [
    "We can extract the logged signals as it follows (see *h5py* docs for more info)"
   ]
  },
  {
   "cell_type": "code",
   "execution_count": null,
   "id": "1616351e-ae85-40c0-95aa-96627f8bea23",
   "metadata": {},
   "outputs": [],
   "source": [
    "V = logs[\"signals/V\"]\n",
    "ia = logs[\"signals/ia\"]\n",
    "dot_theta = logs[\"signals/dot_theta\"]"
   ]
  },
  {
   "cell_type": "markdown",
   "id": "73d7986b-03de-44e3-92e3-3cf092685aa8",
   "metadata": {},
   "source": [
    "At this point we cast the logs into *dymoval* `Signals`. \n",
    "Dymoval's `Signals` are utility Python `dict` (in reality they are `Typeddict`) used to represent signals. "
   ]
  },
  {
   "cell_type": "code",
   "execution_count": null,
   "id": "94b32f18-cc3e-442b-bdb8-4cb9aff87bd5",
   "metadata": {},
   "outputs": [],
   "source": [
    "signal_list = []\n",
    "for val in [V,ia, dot_theta]:\n",
    "    temp:dmv.Signal={\n",
    "        \"name\" : val.attrs[\"name\"].decode('utf-8'),\n",
    "        \"values\" : val[:],\n",
    "        \"signal_unit\" : val.attrs[\"unit\"].decode('utf-8'),\n",
    "        \"sampling_period\" : val.attrs[\"period\"][0],\n",
    "        \"time_unit\" : val.attrs[\"sampling_unit\"].decode('utf-8'),\n",
    "    }\n",
    "    signal_list.append(deepcopy(temp))\n"
   ]
  },
  {
   "cell_type": "markdown",
   "id": "c5362c8b-3313-419d-970b-c9d7c60a3bd6",
   "metadata": {},
   "source": [
    "Let's see how they look like"
   ]
  },
  {
   "cell_type": "code",
   "execution_count": null,
   "id": "af5f0a53-0c9b-42e7-ba26-3752b1f5bd08",
   "metadata": {
    "scrolled": true
   },
   "outputs": [],
   "source": [
    "_= dmv.plot_signals(*signal_list)"
   ]
  },
  {
   "cell_type": "markdown",
   "id": "62e00e51-56f1-4277-a7fc-808e407da5c9",
   "metadata": {},
   "source": [
    "As we can see, the signals have not been logged with the same sampling period and there is also some data logging interruption.\n",
    "Well, things happen in the lab!\n",
    "\n",
    "Nevertheless, a sound dataset shall have all the signals sampled with the same sampling period and it should not contains missing data. \n",
    "However, we can trim the signals in the time range e.g. $T = [30,80]\\,s$ which seems a portion where no signal is missing data.\n",
    "\n",
    "Finally, we can separate input and output signals and we can attempt to re-sample all of them with target sampling period equal to $0.01\\,s$"
   ]
  },
  {
   "cell_type": "code",
   "execution_count": null,
   "id": "5c3d074e-6752-4156-9a13-9b2b2c4877d9",
   "metadata": {},
   "outputs": [],
   "source": [
    "signal_names = [s[\"name\"] for s in signal_list]\n",
    "u_names = signal_names[0]\n",
    "y_names = signal_names[1:]\n",
    "ds = dmv.Dataset(\n",
    "    \"DCMotor\",\n",
    "    signal_list,\n",
    "    u_names,\n",
    "    y_names,\n",
    "    target_sampling_period=0.01,\n",
    "    tin = 40,\n",
    "    tout = 75.0\n",
    ")"
   ]
  },
  {
   "cell_type": "markdown",
   "id": "062d2e0c-99c5-4eba-8c2f-744ebd5a9b22",
   "metadata": {},
   "source": [
    "When creating a *Dataset* object, the signals are always re-sampled in such a way that all of them will have the same sampling period, but sometimes this is not possible and therefore some signals may be excluded from the Dataset. \n",
    "\n",
    "The list of the excluded signals are stored in the attibute `excluded_signal`."
   ]
  },
  {
   "cell_type": "code",
   "execution_count": null,
   "id": "2ae88729-8b30-4cfb-8f80-6fde7db0cd4a",
   "metadata": {},
   "outputs": [],
   "source": [
    "ds.excluded_signals"
   ]
  },
  {
   "cell_type": "markdown",
   "id": "8b9cdd45-051b-422d-a3cd-d2a062cad4cc",
   "metadata": {},
   "source": [
    "In this example all the signals have been correctly re-sampled and therefore there are no excluded signals.\n",
    "\n",
    "Let's now take a look at how our Dataset looks like based on our selection. "
   ]
  },
  {
   "cell_type": "code",
   "execution_count": null,
   "id": "b62c8a5e-b6a7-412f-98e7-78450308a800",
   "metadata": {},
   "outputs": [],
   "source": [
    "_= ds.plot()"
   ]
  },
  {
   "cell_type": "markdown",
   "id": "aa46e5e8-f4ef-4d24-8877-621fa1e23dfa",
   "metadata": {},
   "source": [
    "...and let's check its coverage."
   ]
  },
  {
   "cell_type": "code",
   "execution_count": null,
   "id": "33e2cd39-b0bb-403f-a7a6-772ca3c848e2",
   "metadata": {},
   "outputs": [],
   "source": [
    "_= ds.plot_coverage()"
   ]
  },
  {
   "cell_type": "markdown",
   "id": "044ca0e5-267c-45ea-964b-85c1acabd9d3",
   "metadata": {},
   "source": [
    "The measurements are a bit noisy, so clean them up a little bit through a low pass filter.\n",
    "\n",
    "To find the a good cutoff frequency, we perform a spectral analysis.\n",
    "We first remove the continuous component through the `remove_means()` method, and then we plot the spectrum through the method `plot_spectrum()`"
   ]
  },
  {
   "cell_type": "code",
   "execution_count": null,
   "id": "0336baa6-2a57-41d9-bb15-b097a80c033e",
   "metadata": {},
   "outputs": [],
   "source": [
    "_= ds.remove_means().plot_spectrum()\n"
   ]
  },
  {
   "cell_type": "markdown",
   "id": "6ac296e5-f40e-4965-af66-c12bcecee362",
   "metadata": {},
   "source": [
    "The signals bandwidth of two over three signals is in contained very a narrow range $f < 1\\, Hz$ with the exception of the \"current\" signal. We can low-filter the \"Supply_Voltage\" and the \"MotorSpeed\" signals whereas we keep the \"Current\" signal as is.\n",
    "\n",
    "To don't penalize too much fast changes in the signal we stay a bit larger than $1\\, Hz$. We choose a cutoff frequency $f_c = 5\\, Hz$."
   ]
  },
  {
   "cell_type": "code",
   "execution_count": null,
   "id": "35e1290d-85a0-407f-9d58-925b9912ac1f",
   "metadata": {},
   "outputs": [],
   "source": [
    "cutoff = 5  # [Hz]\n",
    "ds_filt = ds.low_pass_filter((ds.signal_list()[0][1], cutoff),(ds.signal_list()[2][1], cutoff))\n",
    "ds_filt.name = \"Filtered\"\n",
    "_= ds_filt.plot()"
   ]
  },
  {
   "cell_type": "markdown",
   "id": "a07c1b78-0136-48ff-8984-aefe40169cbd",
   "metadata": {},
   "source": [
    "Let's compare our datasets before and after the filtering. "
   ]
  },
  {
   "cell_type": "code",
   "execution_count": null,
   "id": "a95f05e9-e4cc-48d9-99a6-291ad1190ed2",
   "metadata": {},
   "outputs": [],
   "source": [
    "_= dmv.compare_datasets(ds,ds_filt)"
   ]
  },
  {
   "cell_type": "markdown",
   "id": "33efd79b-1514-4360-9ea2-d585bf4472ae",
   "metadata": {},
   "source": [
    "The chosen cutoff frequency seems to clear most of the noise and it does not seem to intoduce too much lag.\n",
    "\n",
    "Let's take a look how the coverage is affected."
   ]
  },
  {
   "cell_type": "code",
   "execution_count": null,
   "id": "a9c22f98-f436-48c5-84f0-570e6059c0f3",
   "metadata": {},
   "outputs": [],
   "source": [
    "_= dmv.compare_datasets(ds,ds_filt, kind=\"coverage\")"
   ]
  },
  {
   "cell_type": "markdown",
   "id": "aec8996c-e604-4c78-b5f9-e4afccc688d0",
   "metadata": {},
   "source": [
    "The coverage is pretty much the same, which means that we managed to remove noise without affecting the coverage region.\n",
    "Let's also see the coverage statistics in terms of mean value and covariance matrices:"
   ]
  },
  {
   "cell_type": "code",
   "execution_count": null,
   "id": "7c403663-0056-41ef-a840-1c0b9665bcdf",
   "metadata": {},
   "outputs": [],
   "source": [
    "mean_in, cov_in, mean_out, cov_out = ds.coverage\n",
    "mean_out"
   ]
  },
  {
   "cell_type": "code",
   "execution_count": null,
   "id": "8d6ccb94-c867-430d-b1e1-5833d1704926",
   "metadata": {},
   "outputs": [],
   "source": [
    "cov_out"
   ]
  },
  {
   "cell_type": "markdown",
   "id": "36b2a46d-a0f1-46d6-abf1-acea17bdfb87",
   "metadata": {},
   "source": [
    "Only for the sake of showing more Dymoval features, we can selectively choose the signals that we want to plot or we can overlap them if we pass them as a tuple:"
   ]
  },
  {
   "cell_type": "code",
   "execution_count": null,
   "id": "bcaeb830-5d5a-4b47-a0fa-83cdc5c01363",
   "metadata": {},
   "outputs": [],
   "source": [
    "_= ds_filt.plot((\"Current\", \"Supply_Voltage\"),\"MotorSpeed\")"
   ]
  },
  {
   "cell_type": "markdown",
   "id": "7517625d-f35a-40b2-a262-a16c7d5a4f54",
   "metadata": {},
   "source": [
    "## Validation Session\n",
    "\n",
    "Now that we have a \"cleaned-up\" *Dataset* object, we can validate our model.\n",
    "\n",
    "First, we need to create a *ValidationSession* object from out Dataset object. We use the low-pass filtered one. All the simulations will be evaluated against such a dataset."
   ]
  },
  {
   "cell_type": "code",
   "execution_count": null,
   "id": "cb267fa1-9681-4c41-ba6f-fcf1cba615d2",
   "metadata": {},
   "outputs": [],
   "source": [
    "vs = dmv.ValidationSession(\"DCMotor_val\", ds_filt)"
   ]
  },
  {
   "cell_type": "markdown",
   "id": "a958521a-2e87-4178-b0ca-70a2048505e4",
   "metadata": {},
   "source": [
    "We now simulate our model with the input stored in `ds_filt` which is the input voltage.\n",
    "\n",
    "To do that, we extract the numerical values of the input signal from the `Dataset` object"
   ]
  },
  {
   "cell_type": "code",
   "execution_count": null,
   "id": "357cc718-89d4-4c1a-b910-6c1dba9a48a4",
   "metadata": {},
   "outputs": [],
   "source": [
    "(t,u,y) = vs.Dataset.dataset_values()"
   ]
  },
  {
   "cell_type": "markdown",
   "id": "040f7df8-65cf-4851-ba5a-47c74d092df3",
   "metadata": {},
   "source": [
    "Then, we load our model and we feed it with the extracted input `u` and then we store the model response to a variable `y_sim`\n",
    "\n",
    ">Note that it is not required to run any model within Python, nor it is required the model to have a specific model format. You just need to import the  simulation results of your model (that you may have simulated elsewhere) and append such simulation results to a  *dymoval* ValidationSession object. However, we also simulate the model in this example."
   ]
  },
  {
   "cell_type": "markdown",
   "id": "b09d7247-3219-431b-a6c2-9b1dc824a1c7",
   "metadata": {},
   "source": [
    "Let's import our model and let's simulate it:"
   ]
  },
  {
   "cell_type": "code",
   "execution_count": null,
   "id": "f19b5ef2-fe1a-4da7-b4c1-efe8d1798d72",
   "metadata": {},
   "outputs": [],
   "source": [
    "from  DCMotorModel import DCMotor_dt\n",
    "import control as ct\n",
    "\n",
    "# Simulate model\n",
    "res = ct.forced_response(DCMotor_dt, X0=[0.0, 0.0, 0.0], U = u)\n",
    "y_sim = res.y.T[:,[0,2]]"
   ]
  },
  {
   "cell_type": "markdown",
   "id": "122161ca-14d2-459f-9343-cce4e275d036",
   "metadata": {},
   "source": [
    "Next, we append the simulation results `y_sim` to the *ValidationSession* object `vs`. \n",
    "The validation results are automatically computed. \n",
    "\n",
    "To append simulation results, we need to give a label to identify a simulation run and we shall also give a name to its output signals. "
   ]
  },
  {
   "cell_type": "code",
   "execution_count": null,
   "id": "448c11d7-90ef-4702-a41f-5110b44ddf73",
   "metadata": {},
   "outputs": [],
   "source": [
    "# Append simulation\n",
    "vs = vs.clear()\n",
    "sim_name = \"DCMotor_ss_model\"\n",
    "sim_labels = [\"ia\", \"dot_theta\"]\n",
    "vs = vs.append_simulation(sim_name, sim_labels, y_sim)"
   ]
  },
  {
   "cell_type": "markdown",
   "id": "399642cc-0e3c-4ac3-86d6-347a39e84517",
   "metadata": {},
   "source": [
    "Let's now compare the output of our model with the Dataset"
   ]
  },
  {
   "cell_type": "code",
   "execution_count": null,
   "id": "407001a8-4cb6-42ae-89ec-1c6af5f551f0",
   "metadata": {
    "scrolled": true
   },
   "outputs": [],
   "source": [
    "_=vs.plot_simulations(dataset='out')"
   ]
  },
  {
   "cell_type": "markdown",
   "id": "42a35e05-c274-46c5-8858-26617f3b0e27",
   "metadata": {},
   "source": [
    "With the exception of the initial peak exhibited by our model (we will explain later why such a peak), the graphical look of our system response looks promising. \n",
    "\n",
    "Let's take a look at the residuals plots."
   ]
  },
  {
   "cell_type": "code",
   "execution_count": null,
   "id": "104ab22b-6a26-450f-833c-80b99f23057a",
   "metadata": {
    "scrolled": true
   },
   "outputs": [],
   "source": [
    "_ = vs.plot_residuals()"
   ]
  },
  {
   "cell_type": "markdown",
   "id": "f9f89889-b890-48a9-b48a-893d3a14aae2",
   "metadata": {},
   "source": [
    "The residual plots look great! \n",
    "Let's also take a look at the validation metrics, which are just an attribute of the *ValidationSession* class:"
   ]
  },
  {
   "cell_type": "code",
   "execution_count": null,
   "id": "261040df-5008-4ae3-8b8e-d4d1d0e6360f",
   "metadata": {},
   "outputs": [],
   "source": [
    "vs.validation_results"
   ]
  },
  {
   "cell_type": "markdown",
   "id": "9055d36b-3c83-471c-b26d-e510615a6eac",
   "metadata": {},
   "source": [
    "The r-square fit looks very good as well as the residuals values. \n",
    "\n",
    "However, there is a subtle thing to notice. \n",
    "The considered dataset only includes the logged steady-state value of the real system (we trim the dataset around 30s, the motor was already in steady state at that time), whereas we simulated the model starting from a certain initial condition (= 0). Hence, around t = 0 we are comparing real system steady-state with model transient and that explains the mismatch in the time-plot of the simulations results versus the measurement data around t = 0. \n",
    "\n",
    "To overcome this issue, we can trim the validation dataset, thus excluding the portion around t = 0. In this way we compare real system steady-state VS model steady-state: "
   ]
  },
  {
   "cell_type": "code",
   "execution_count": null,
   "id": "5094a0e2-451a-46a4-a159-e1566bb5a5bf",
   "metadata": {},
   "outputs": [],
   "source": [
    "# trim the validation dataset between 1 and 35 seconds\n",
    "vs = vs.trim(1,35)\n",
    "vs.plot_simulations(dataset=\"out\")\n",
    "vs.validation_results\n",
    "#print(vs.auto_correlation['DCMotor_ss_model'])"
   ]
  },
  {
   "cell_type": "markdown",
   "id": "2c5bbbad-a292-48c0-b032-15000592b9fc",
   "metadata": {},
   "source": [
    "As expected, the r2 squared slightly increased and the residuals didn't get affected too much, as we can seen fro the next plot. "
   ]
  },
  {
   "cell_type": "code",
   "execution_count": null,
   "id": "3d09266d-34ac-4ab0-be4b-51c82c454871",
   "metadata": {},
   "outputs": [],
   "source": [
    "_ = vs.plot_residuals(layout=\"none\")"
   ]
  },
  {
   "cell_type": "markdown",
   "id": "009ca5bf-d386-4bc3-8412-0fd2af84d636",
   "metadata": {},
   "source": [
    "We finished our validation exercise. \n",
    "Our model looks great! The fit in terms or r-squared looks excellent and the residuals norms are also excellent. However, you should not forget that your model **is reliable only on its validation region**. If you plan to use it outside the validation region, you shall consider logging measurements in such a region and re-validate your model against the new measurement dataset."
   ]
  },
  {
   "cell_type": "markdown",
   "id": "e5801fef-1044-4f72-b430-d8f0d36f36e1",
   "metadata": {},
   "source": [
    "##  Summary: how to interpret the results? \n",
    "\n",
    "High values of r-squared do not say no much about your model (but low values do send you a clear message!), but you should always check the residuals as well.\n",
    "The tractation of why you should check your residuals goes beyond this tutorial but there are lot of very good explanations in the web or, even better, on some System Identification book. \n",
    "\n",
    "Nevertheless, you can consider the following rule of thumbs: you want the r-squared index as high as possible and the residuals auto-correlation as close as possible to 1 and the input-residuals cross-correlation as small as possible. If that happens, then your model is good to go in its coverage region. \n",
    "\n",
    "Note that the default way the residuals auto-correlation and input-residuals cross-correlation are computed consider the *l-infinity norm* for each scalar signal with respect to the number of lags. The result after such an operation is a *p x q* matrix and the \"2-norm\" is computed on such a matrix. \n",
    "You may consider to change both the norms or to further manipulate them: for example you can normalize the l-norm if you replace the *l-infinity norm* with the *l-2 norm* or divide by *p x q* the result of the Matrix norm. \n",
    "\n",
    "\n"
   ]
  },
  {
   "cell_type": "markdown",
   "id": "6c8d625d-f1ab-4220-bc62-161531ae7280",
   "metadata": {},
   "source": [
    "#### Congrats! You arrived at the end of the tutorial! \n",
    "\n",
    "However, there are few things to remember.\n",
    "\n",
    "#### Note 1\n",
    "Dymoval is build to simplify common tasks that an engineer has to carry out and who may find tools such as pandas, matplotlib, numpy, etc. a bit too overwhelming.\n",
    "However, if you need more power, consider that\n",
    "\n",
    "1. Every plot returns a *matplotlib* figure, which means that you can further manipulate such a figure through the *matplotlib* API.\n",
    "2. If you need to do further manipulate youd dataset and *dymoval* won't provide you certain functionalities, the you can use the method `dump_to_signals()` to dump the all the signals stored in the `Dataset` instance into a list of `Signals`. At this point you could use any packages you want (e.g. *numpy*, *scipy*, etc.) to manipulate the signals and then you may want to instantiate a brand new `Dataset` object from the manipulated signals.  \n",
    "\n",
    "\n",
    "#### Note 2\n",
    "When manipulating `Dataset` or `ValidationSession` object, Dymoval won't change the current instance, but it returns a modified copy of it.\n",
    "This means that e.g. `ds.remove_means()` won't change `ds` but you should explicitely re-assign it, e.g. `ds = ds.remove_means()`.\n",
    "\n",
    "\n",
    "#### Note 3\n",
    "The main objects of *dymoval* are \n",
    "\n",
    "1. Signals, \n",
    "2. Datasets and \n",
    "3. ValidationSessions.\n",
    "\n",
    "`Signals` are used as entry point from the external world to *dymoval*. We tried to keep them be as generic as possible.\n",
    "`Datasets` are built upon *pandas* `DataFrames`. In-fact, the attribute `Dataset.dataset` is a pandas `DataFrame`:"
   ]
  },
  {
   "cell_type": "code",
   "execution_count": null,
   "id": "5a929132-c8f3-4b4a-bba4-1cd94a245281",
   "metadata": {},
   "outputs": [],
   "source": [
    "ds_filt.dataset"
   ]
  },
  {
   "cell_type": "markdown",
   "id": "8245dd2d-a989-45d8-b954-d7a87b7febd2",
   "metadata": {},
   "source": [
    "This means that in principle, you could use all the pandas `DataFrame` methods in dymoval.\n",
    "However, although this can be useful in many casest, directly changing the values of a `Dataset.dataset` `DataFrame` is discouraged since a dymoval `Dataset` object has additional attributes such as coverage regions, *NaN* intervals, excluded signals and so on, that depends on the `dataset` attribute itself. Therefore, you may use the `dump_to_signals()` method as described in the **Note 1**, manipulate your signals and then create a new `Dataset` object.\n",
    "\n",
    "\n",
    "In the same way, a *pandas* DataFrame is a `Dataset` object, then a `Dataset` object is an attribute of a `ValidationSession`:"
   ]
  },
  {
   "cell_type": "code",
   "execution_count": null,
   "id": "386d9a84-d4b9-45c9-bdac-677fd5888d92",
   "metadata": {},
   "outputs": [],
   "source": [
    "type(vs.Dataset)"
   ]
  },
  {
   "cell_type": "markdown",
   "id": "0429f560-b297-4640-96cb-22e889dd12ce",
   "metadata": {},
   "source": [
    "This means that you can access all the methods and attributes of the stored `Dataset` object directly from a `ValidationSession` object.\n",
    "\n",
    "But, again, it is discouraged to make any change directly to the `Dataset` object stored in a `ValidationSession` object. \n",
    "If you need a `ValidationSession` object with a different `Dataset`, just create a new one. "
   ]
  },
  {
   "cell_type": "markdown",
   "id": "d7565dea-39d0-44d5-9dca-e13ca82ca93a",
   "metadata": {},
   "source": [
    "## What's next?\n",
    "\n",
    "Feel free to check the [documentation](https://volvogroup.github.io/dymoval/) to have access to the full API and to get more insight on how *dymoval* is structured.\n",
    "\n",
    "Good luck!\n",
    "\n",
    "# Credits\n",
    "Picture from Mika Baumeister on Unsplash."
   ]
  }
 ],
 "metadata": {
  "kernelspec": {
   "display_name": "Python 3 (ipykernel)",
   "language": "python",
   "name": "python3"
  },
  "language_info": {
   "codemirror_mode": {
    "name": "ipython",
    "version": 3
   },
   "file_extension": ".py",
   "mimetype": "text/x-python",
   "name": "python",
   "nbconvert_exporter": "python",
   "pygments_lexer": "ipython3",
   "version": "3.11.3"
  },
  "toc-autonumbering": false,
  "toc-showmarkdowntxt": false
 },
 "nbformat": 4,
 "nbformat_minor": 5
}
